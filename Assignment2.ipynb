{
 "cells": [
  {
   "cell_type": "code",
   "execution_count": 5,
   "id": "6f64353c-6984-4e6b-bec6-395014fb75a0",
   "metadata": {},
   "outputs": [
    {
     "name": "stdin",
     "output_type": "stream",
     "text": [
      "enter the % no._ 67\n"
     ]
    },
    {
     "name": "stdout",
     "output_type": "stream",
     "text": [
      "C Grade\n"
     ]
    }
   ],
   "source": [
    "# Q.1\n",
    "n=int(input('enter the % no._' ))\n",
    "if n>90:\n",
    "    print('A Grade')\n",
    "elif n>80 and n<=90:\n",
    "    print('B Grade')\n",
    "elif n>=60 and n<=80:\n",
    "    print('C Grade')\n",
    "else:\n",
    "    print('D Grade')\n"
   ]
  },
  {
   "cell_type": "code",
   "execution_count": 6,
   "id": "95508418-1169-40c1-84bf-7070983f68c7",
   "metadata": {},
   "outputs": [
    {
     "name": "stdin",
     "output_type": "stream",
     "text": [
      "enter cost of bike 98000\n"
     ]
    },
    {
     "name": "stdout",
     "output_type": "stream",
     "text": [
      "tax - 10%\n"
     ]
    }
   ],
   "source": [
    "# Q.2\n",
    "cost_of_bike=int(input(\"enter cost of bike\"))\n",
    "if cost_of_bike>100000:\n",
    "    print('tax - 15%')\n",
    "elif cost_of_bike>50000 and cost_of_bike<=100000:\n",
    "    print('tax - 10%')\n",
    "else:\n",
    "    print('tax - 5%')"
   ]
  },
  {
   "cell_type": "code",
   "execution_count": 7,
   "id": "6af9537a-a602-47bc-9c4d-5d114ac502f3",
   "metadata": {},
   "outputs": [
    {
     "name": "stdin",
     "output_type": "stream",
     "text": [
      "enter the city name: Jaipur\n"
     ]
    },
    {
     "name": "stdout",
     "output_type": "stream",
     "text": [
      "Jal Mahal\n"
     ]
    }
   ],
   "source": [
    "# Q.3\n",
    "city=input('enter the city name:')\n",
    "if city=='Delhi':\n",
    "    print('Red Fort')\n",
    "elif city=='Agra':\n",
    "    print('Taj mahal')\n",
    "elif city=='Jaipur':\n",
    "    print('Jal Mahal')\n",
    "else:\n",
    "    print('data not found')"
   ]
  },
  {
   "cell_type": "code",
   "execution_count": 8,
   "id": "2675b6e0-83d5-4a55-862f-040723ea2cf9",
   "metadata": {},
   "outputs": [
    {
     "name": "stdin",
     "output_type": "stream",
     "text": [
      "Enter a number:  89\n"
     ]
    },
    {
     "name": "stdout",
     "output_type": "stream",
     "text": [
      "The number can be divided by 3 2 times before it is less than or equal to 10.\n"
     ]
    }
   ],
   "source": [
    "# Q.4\n",
    "num = int(input(\"Enter a number: \"))\n",
    "count = 0\n",
    "while num > 10:\n",
    "    num = num / 3\n",
    "    count += 1\n",
    "print(\"The number can be divided by 3\", count, \"times before it is less than or equal to 10.\")"
   ]
  },
  {
   "cell_type": "markdown",
   "id": "307e36a1-cbc5-4681-a20e-340990fb5175",
   "metadata": {},
   "source": [
    "# Q.5\n",
    "A while loop in Python is used to repeatedly execute a block of code as long as the condition specified in the while statement is True. \n",
    "The code inside the loop will be executed repeatedly as long as the condition is True. Once the condition becomes False, the loop will terminate and the program will continue to execute any code that follows the loop"
   ]
  },
  {
   "cell_type": "code",
   "execution_count": 9,
   "id": "c4ac8c70-b7f3-48e3-ad6b-e131e52081a8",
   "metadata": {},
   "outputs": [
    {
     "name": "stdout",
     "output_type": "stream",
     "text": [
      "1\n",
      "2\n",
      "3\n",
      "4\n",
      "5\n"
     ]
    }
   ],
   "source": [
    "count = 1\n",
    "while count <= 5:\n",
    "    print(count)\n",
    "    count += 1"
   ]
  },
  {
   "cell_type": "markdown",
   "id": "fb51cf3f-be33-450a-b85a-de3924b84fb4",
   "metadata": {},
   "source": [
    "After the value of count becomes greater than 5, the loop will terminate and the program will continue to execute any code that follows the loop.\n",
    "The while loop is an ideal choice for situations where you want to execute a block of code repeatedly until a specific condition is met. It is often used when you do not know beforehand how many times the loop will be executed.\n",
    "\n",
    "# Q.6\n"
   ]
  },
  {
   "cell_type": "code",
   "execution_count": 10,
   "id": "c0537c40-2807-46a1-81bd-443c535d69c5",
   "metadata": {},
   "outputs": [
    {
     "name": "stdout",
     "output_type": "stream",
     "text": [
      "* \n",
      "* * \n",
      "* * * \n",
      "* * * * \n",
      "* * * * * \n"
     ]
    }
   ],
   "source": [
    "rows = 5\n",
    "for i in range(1, rows + 1):\n",
    "    for j in range(1, i + 1):\n",
    "        print(\"*\", end=\" \")\n",
    "    print(\"\")"
   ]
  },
  {
   "cell_type": "code",
   "execution_count": 11,
   "id": "a928b8a2-9a97-47e0-9e5c-459ae4f51918",
   "metadata": {},
   "outputs": [
    {
     "name": "stdout",
     "output_type": "stream",
     "text": [
      "* * * * * \n",
      "* * * * \n",
      "* * * \n",
      "* * \n",
      "* \n"
     ]
    }
   ],
   "source": [
    "rows = 5\n",
    "for i in range(rows, 0, -1):\n",
    "    for j in range(0, i):\n",
    "        print(\"*\", end=\" \")\n",
    "    print(\"\")"
   ]
  },
  {
   "cell_type": "code",
   "execution_count": 12,
   "id": "ee16419c-6db4-468f-b7a1-5aac72227616",
   "metadata": {},
   "outputs": [
    {
     "name": "stdout",
     "output_type": "stream",
     "text": [
      "* \n",
      "* * \n",
      "* * * \n",
      "* * * * \n",
      "* * * * * \n",
      "* * * * \n",
      "* * * \n",
      "* * \n",
      "* \n"
     ]
    }
   ],
   "source": [
    "rows = 5\n",
    "for i in range(1, rows + 1):\n",
    "    for j in range(1, i + 1):\n",
    "        print(\"*\", end=\" \")\n",
    "    print(\"\")\n",
    "for i in range(rows - 1, 0, -1):\n",
    "    for j in range(0, i):\n",
    "        print(\"*\", end=\" \")\n",
    "    print(\"\")"
   ]
  },
  {
   "cell_type": "code",
   "execution_count": 13,
   "id": "5a69a503-152d-4f0a-a956-963965f529cb",
   "metadata": {},
   "outputs": [
    {
     "name": "stdout",
     "output_type": "stream",
     "text": [
      "10\n",
      "9\n",
      "8\n",
      "7\n",
      "6\n",
      "5\n",
      "4\n",
      "3\n",
      "2\n",
      "1\n"
     ]
    }
   ],
   "source": [
    "# Q.7,8\n",
    "num = 10\n",
    "while num >= 1:\n",
    "    print(num)\n",
    "    num = num - 1"
   ]
  },
  {
   "cell_type": "code",
   "execution_count": null,
   "id": "63cd2e96-a9c7-4732-a564-10c48565fac6",
   "metadata": {},
   "outputs": [],
   "source": []
  }
 ],
 "metadata": {
  "kernelspec": {
   "display_name": "Python 3 (ipykernel)",
   "language": "python",
   "name": "python3"
  },
  "language_info": {
   "codemirror_mode": {
    "name": "ipython",
    "version": 3
   },
   "file_extension": ".py",
   "mimetype": "text/x-python",
   "name": "python",
   "nbconvert_exporter": "python",
   "pygments_lexer": "ipython3",
   "version": "3.10.8"
  }
 },
 "nbformat": 4,
 "nbformat_minor": 5
}
